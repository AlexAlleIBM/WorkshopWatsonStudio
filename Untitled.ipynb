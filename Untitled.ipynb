{
 "cells": [
  {
   "cell_type": "code",
   "execution_count": 2,
   "id": "raising-delight",
   "metadata": {
    "id": "80a3571e-12f1-463f-8438-c2be94767ea0",
    "tags": []
   },
   "outputs": [
    {
     "name": "stdout",
     "output_type": "stream",
     "text": [
      "Bonjour Monde\n"
     ]
    }
   ],
   "source": [
    "print (\"Bonjour Monde\")"
   ]
  },
  {
   "cell_type": "code",
   "execution_count": null,
   "id": "agreed-segment",
   "metadata": {
    "id": "cec403de-f4a9-4594-b4bc-992cd2d8f683"
   },
   "outputs": [],
   "source": []
  }
 ],
 "metadata": {
  "kernelspec": {
   "display_name": "Python 3.9",
   "language": "python",
   "name": "python3"
  },
  "language_info": {
   "codemirror_mode": {
    "name": "ipython",
    "version": 3
   },
   "file_extension": ".py",
   "mimetype": "text/x-python",
   "name": "python",
   "nbconvert_exporter": "python",
   "pygments_lexer": "ipython3",
   "version": "3.9.7"
  }
 },
 "nbformat": 4,
 "nbformat_minor": 5
}
